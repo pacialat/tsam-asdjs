{
 "metadata": {
  "name": "",
  "signature": "sha256:e041857f391d02587f37a13a9c63d9c25be9966783950b5ab3591752127c43ee"
 },
 "nbformat": 3,
 "nbformat_minor": 0,
 "worksheets": [
  {
   "cells": [
    {
     "cell_type": "markdown",
     "metadata": {},
     "source": [
      "# 1)Dato un array di interi, restituire la loro somma fino a che non viene ritrovato un valore negativo.(iterativa) LINEARE"
     ]
    },
    {
     "cell_type": "code",
     "collapsed": false,
     "input": [
      "function sumpos(myArray){\n",
      "    val = 0;\n",
      "    for (i = 0; i < myArray.length; i++){\n",
      "        if (myArray[i] >= 0){\n",
      "            val = val + myArray[i];\n",
      "        } else {\n",
      "            return val;\n",
      "        }\n",
      "    }\n",
      "    return val;\n",
      "}\n",
      "sumpos([1, 2, 3]);"
     ],
     "language": "python",
     "metadata": {},
     "outputs": [
      {
       "metadata": {},
       "output_type": "pyout",
       "prompt_number": 7,
       "text": [
        "6"
       ]
      }
     ],
     "prompt_number": 7
    },
    {
     "cell_type": "markdown",
     "metadata": {},
     "source": [
      "#1)Dato un array di interi, restituire la loro somma fino a che non viene ritrovato un valore negativo.(ricorsiva) LINEARE"
     ]
    },
    {
     "cell_type": "code",
     "collapsed": false,
     "input": [
      "function sumposric(myArray){\n",
      "        if (myArray.length == 0){\n",
      "            return 0;\n",
      "        } else {\n",
      "                if (myArray[0] >= 0){\n",
      "                    return myArray[0] + sumposric(myArray.slice(1));\n",
      "                } else {\n",
      "                    return ;\n",
      "                }\n",
      "        }\n",
      "}\n",
      "sumposric([1, 2, -2]);"
     ],
     "language": "python",
     "metadata": {},
     "outputs": [
      {
       "metadata": {},
       "output_type": "pyout",
       "prompt_number": 7,
       "text": [
        "3"
       ]
      }
     ],
     "prompt_number": 7
    },
    {
     "cell_type": "markdown",
     "metadata": {},
     "source": [
      "# 2)Dato un numero n, restituire la somma dei primi n numeri interi positivi dispari.(iterativa) LINEARE"
     ]
    },
    {
     "cell_type": "code",
     "collapsed": false,
     "input": [
      "function sumposdispari(n){\n",
      "    val = 0;\n",
      "    for (i = 0; i <= n; i++){\n",
      "        if ((i >= 0) && (i % 2 != 0)){\n",
      "            val = val + i;\n",
      "        }\n",
      "    }\n",
      "    return val;\n",
      "}\n",
      "sumposdispari(5);"
     ],
     "language": "python",
     "metadata": {},
     "outputs": [
      {
       "metadata": {},
       "output_type": "pyout",
       "prompt_number": 22,
       "text": [
        "9"
       ]
      }
     ],
     "prompt_number": 22
    },
    {
     "cell_type": "markdown",
     "metadata": {},
     "source": [
      "# 2)Dato un numero n, restituire la somma dei primi n numeri interi positivi dispari.(ricorsiva) LINEARE"
     ]
    },
    {
     "cell_type": "code",
     "collapsed": false,
     "input": [
      "function sumposdispariric(n){\n",
      "    if (n < 0){\n",
      "        return 0;\n",
      "    } else {\n",
      "        if (n % 2 != 0){\n",
      "            return n + sumposdispariric(n-1);\n",
      "        } else {\n",
      "            return n;\n",
      "        }\n",
      "    }\n",
      "}\n",
      "sumposdispariric(5);"
     ],
     "language": "python",
     "metadata": {},
     "outputs": [
      {
       "metadata": {},
       "output_type": "pyout",
       "prompt_number": 9,
       "text": [
        "9"
       ]
      }
     ],
     "prompt_number": 9
    },
    {
     "cell_type": "markdown",
     "metadata": {},
     "source": [
      "# 3)Dato un array di 10 elementi, calcolarne la media.(iterativa) LINEARE"
     ]
    },
    {
     "cell_type": "code",
     "collapsed": false,
     "input": [
      "a = [0, 1, 2, 3 , 4, 5, 6, 7, 8, 9];"
     ],
     "language": "python",
     "metadata": {},
     "outputs": [
      {
       "metadata": {},
       "output_type": "pyout",
       "prompt_number": 5,
       "text": [
        "[ 0, 1, 2, 3, 4, 5, 6, 7, 8, 9 ]"
       ]
      }
     ],
     "prompt_number": 5
    },
    {
     "cell_type": "code",
     "collapsed": false,
     "input": [
      "function mediadieci(myArray){\n",
      "    somma = 0;\n",
      "    for (i = 0; i < myArray.length; i++){\n",
      "        somma = somma + i;\n",
      "    }\n",
      "    return somma / myArray.length\n",
      "}\n",
      "mediadieci(a);"
     ],
     "language": "python",
     "metadata": {},
     "outputs": [
      {
       "metadata": {},
       "output_type": "pyout",
       "prompt_number": 6,
       "text": [
        "4.5"
       ]
      }
     ],
     "prompt_number": 6
    },
    {
     "cell_type": "markdown",
     "metadata": {},
     "source": [
      "# 3)Dato un array di 10 elementi, calcolarne la media.(ricorsiva) LINEARE"
     ]
    },
    {
     "cell_type": "code",
     "collapsed": false,
     "input": [
      "function mediadieciric(myArray){\n",
      "    if (myArray.length == 0){\n",
      "        return 0;\n",
      "    } else {\n",
      "        if(myArray.length == 10) return (myArray[0] + mediadieciric(myArray.slice(1)) /10);\n",
      "        return myArray[0] + mediadieciric(myArray.slice(1));\n",
      "    }\n",
      "}\n",
      "mediadieciric(a);"
     ],
     "language": "python",
     "metadata": {},
     "outputs": [
      {
       "metadata": {},
       "output_type": "pyout",
       "prompt_number": 11,
       "text": [
        "4.5"
       ]
      }
     ],
     "prompt_number": 11
    },
    {
     "cell_type": "markdown",
     "metadata": {},
     "source": [
      "# 4)Dato un intervallo [a, b] con a e b due interi positivi, restituire la somma di tutti i numeri compresi all\u2019interno dell\u2019intervallo, estremi inclusi. Nel caso che b fosse minore di a, calcolare la somma nell\u2019intervallo [b,a] (iterativa) LINEARE"
     ]
    },
    {
     "cell_type": "code",
     "collapsed": false,
     "input": [
      "function sumInterval(a, b){\n",
      "    somma1 = 0;\n",
      "    somma2 = 0;\n",
      "    if (a > b){\n",
      "        for (i = b; i <= a; i++){\n",
      "            somma1 = somma1 + i;\n",
      "        }\n",
      "        return somma1;\n",
      "    } else {\n",
      "        for (i = a; i <= b; i++){\n",
      "            somma2 = somma2 + i;\n",
      "        }\n",
      "        return somma2;\n",
      "    }\n",
      "}\n",
      "sumInterval(5, 3);"
     ],
     "language": "python",
     "metadata": {},
     "outputs": [
      {
       "metadata": {},
       "output_type": "pyout",
       "prompt_number": 33,
       "text": [
        "12"
       ]
      }
     ],
     "prompt_number": 33
    },
    {
     "cell_type": "markdown",
     "metadata": {},
     "source": [
      "# 4)Dato un intervallo [a, b] con a e b due interi positivi, restituire la somma di tutti i numeri compresi all\u2019interno dell\u2019intervallo, estremi inclusi. Nel caso che b fosse minore di a, calcolare la somma nell\u2019intervallo [b,a] (ricorsiva) LINEARE"
     ]
    },
    {
     "cell_type": "code",
     "collapsed": false,
     "input": [
      "function sumIntervalric(a, b){\n",
      "    if (a.length == 0){\n",
      "        return 0;\n",
      "    } else {\n",
      "        if (a > b){\n",
      "            return b + sumIntervalric(b + 1, a);\n",
      "        } else {\n",
      "            return a + sumIntervalric(a + 1, b);\n",
      "        }\n",
      "    }\n",
      "}\n",
      "sumIntervalric(5, 3);"
     ],
     "language": "python",
     "metadata": {},
     "outputs": [
      {
       "ename": "RangeError",
       "evalue": "Maximum call stack size exceeded",
       "output_type": "pyerr",
       "traceback": ""
      }
     ],
     "prompt_number": 19
    },
    {
     "cell_type": "markdown",
     "metadata": {},
     "source": [
      "# 5)Si calcoli il prodotto di due numeri a, b maggiori o uguali a zero, tramite l\u2019utilizzo del solo operatore somma.(iterativa) LINEARE"
     ]
    },
    {
     "cell_type": "code",
     "collapsed": false,
     "input": [
      "function mult(a, b){\n",
      "    if ((a && b) >= 0){\n",
      "        somma = 0;\n",
      "        for (i = 1; i <= b; i++){\n",
      "            somma = somma + a;\n",
      "        }\n",
      "    }\n",
      "    return somma;\n",
      "}\n",
      "mult(5, 1);"
     ],
     "language": "python",
     "metadata": {},
     "outputs": [
      {
       "metadata": {},
       "output_type": "pyout",
       "prompt_number": 13,
       "text": [
        "5"
       ]
      }
     ],
     "prompt_number": 13
    },
    {
     "cell_type": "markdown",
     "metadata": {},
     "source": [
      "# 5)Si calcoli il prodotto di due numeri a, b maggiori o uguali a zero, tramite l\u2019utilizzo del solo operatore somma (ricorsiva) LINEARE\n"
     ]
    },
    {
     "cell_type": "code",
     "collapsed": false,
     "input": [
      "function multric(a, b){\n",
      "    if ((a && b) <= 0){\n",
      "        return 0;\n",
      "    } else {\n",
      "        return a + multric(a, b - 1);\n",
      "    }\n",
      "}\n",
      "multric(2, 3);"
     ],
     "language": "python",
     "metadata": {},
     "outputs": [
      {
       "metadata": {},
       "output_type": "pyout",
       "prompt_number": 36,
       "text": [
        "6"
       ]
      }
     ],
     "prompt_number": 36
    },
    {
     "cell_type": "markdown",
     "metadata": {},
     "source": [
      "# 6)Si calcoli la divisione e il resto della divisione tra due numeri a, b maggiori a zero, tramite l\u2019utilizzo dei soli operatori somma e sottrazione.(iterativa) LINEARE"
     ]
    },
    {
     "cell_type": "code",
     "collapsed": false,
     "input": [
      "function div(a, b){\n",
      "    if ((a && b) >= 0){\n",
      "        divisione = 0;\n",
      "        resto = a;\n",
      "        for (i = 1; i <= b; i++){\n",
      "            if (resto > b){\n",
      "            resto = resto - b ;\n",
      "            divisione = divisione + 1;\n",
      "        }\n",
      "    }\n",
      "    return divisione +' resto ' + resto;\n",
      "    } else return null;\n",
      "}\n",
      "div(5, 3);"
     ],
     "language": "python",
     "metadata": {},
     "outputs": [
      {
       "metadata": {},
       "output_type": "pyout",
       "prompt_number": 22,
       "text": [
        "'1 resto 2'"
       ]
      }
     ],
     "prompt_number": 22
    },
    {
     "cell_type": "markdown",
     "metadata": {},
     "source": [
      "# 6)Si calcoli la divisione e il resto della divisione tra due numeri a, b maggiori a zero, tramite l\u2019utilizzo dei soli operatori somma e sottrazione.(ricorsiva)"
     ]
    },
    {
     "cell_type": "code",
     "collapsed": false,
     "input": [],
     "language": "python",
     "metadata": {},
     "outputs": [
      {
       "metadata": {},
       "output_type": "pyout",
       "prompt_number": 2,
       "text": [
        "undefined"
       ]
      }
     ],
     "prompt_number": 2
    },
    {
     "cell_type": "markdown",
     "metadata": {},
     "source": [
      "# 7)Si calcoli la potenza (x^y) di due numeri x y maggiori o uguali a zero, tramite l\u2019utilizzo dei soli operatori somma, sottrazione e della funzione mult. (iterativa) LINEARE"
     ]
    },
    {
     "cell_type": "code",
     "collapsed": false,
     "input": [
      "function pow (a, b){\n",
      "    if (a >= 0 && b >= 0){\n",
      "        app = 1;\n",
      "        for (var i = 0; i < b; i++){\n",
      "            app = mult(app, a);\n",
      "        }\n",
      "    } else {\n",
      "        return null;\n",
      "    }\n",
      "    return app;\n",
      "}\n",
      "pow(2, 5);"
     ],
     "language": "python",
     "metadata": {},
     "outputs": [
      {
       "metadata": {},
       "output_type": "pyout",
       "prompt_number": 15,
       "text": [
        "32"
       ]
      }
     ],
     "prompt_number": 15
    },
    {
     "cell_type": "markdown",
     "metadata": {},
     "source": [
      "# 7)Si calcoli la potenza (x^y) di due numeri x y maggiori o uguali a zero, tramite l\u2019utilizzo dei soli operatori somma, sottrazione e della funzione mult.(ricorsiva)"
     ]
    },
    {
     "cell_type": "code",
     "collapsed": false,
     "input": [],
     "language": "python",
     "metadata": {},
     "outputs": [
      {
       "metadata": {},
       "output_type": "pyout",
       "prompt_number": 40,
       "text": [
        "0"
       ]
      }
     ],
     "prompt_number": 40
    },
    {
     "cell_type": "markdown",
     "metadata": {},
     "source": [
      "#8)Dato un array contenente n^2 elementi, scrivere un algoritmo che permetta di inserire tutti gli oggetti in un array bidimensionale n x n.(iterativa)"
     ]
    },
    {
     "cell_type": "code",
     "collapsed": false,
     "input": [],
     "language": "python",
     "metadata": {},
     "outputs": []
    },
    {
     "cell_type": "markdown",
     "metadata": {},
     "source": [
      "# 8)Dato un array contenente n^2 elementi, scrivere un algoritmo che permetta di inserire tutti gli oggetti in un array bidimensionale n x n.(ricorsiva)"
     ]
    },
    {
     "cell_type": "code",
     "collapsed": false,
     "input": [],
     "language": "python",
     "metadata": {},
     "outputs": []
    },
    {
     "cell_type": "markdown",
     "metadata": {},
     "source": [
      "# 9)Dato una array di elementi, scrivere un algoritmo che permetta di invertire l\u2019ordine degli elementi.(iterativa) LINEARE"
     ]
    },
    {
     "cell_type": "code",
     "collapsed": false,
     "input": [
      "function inverti(myArray){\n",
      "    for (var i = 0; i < Math.floor((myArray.length / 2)); i++) {\n",
      "        var app = myArray[i];\n",
      "        myArray[i] = myArray[myArray.length - i - 1];\n",
      "        myArray[myArray.length - i - 1] = app;\n",
      "    }\n",
      "    return myArray;\n",
      "}\n",
      "inverti([2, 5, 8]);"
     ],
     "language": "python",
     "metadata": {},
     "outputs": [
      {
       "metadata": {},
       "output_type": "pyout",
       "prompt_number": 16,
       "text": [
        "[ 8, 5, 2 ]"
       ]
      }
     ],
     "prompt_number": 16
    },
    {
     "cell_type": "markdown",
     "metadata": {},
     "source": [
      "# 9)Dato una array di elementi, scrivere un algoritmo che permetta di invertire l\u2019ordine degli elementi.(ricorsiva)"
     ]
    },
    {
     "cell_type": "markdown",
     "metadata": {},
     "source": [
      "# 10) Dati due interi a, n maggiori di 0, scrivere un algoritmo che crea un lista di n elementi contenenti a.(iterativa) LINEARE"
     ]
    },
    {
     "cell_type": "code",
     "collapsed": false,
     "input": [
      "function replicate(a, n){\n",
      "    array = [0];\n",
      "    if ((a && n ) >= 0){\n",
      "        for (i = 0; i < n; i++){\n",
      "            array[i] = a;\n",
      "        }\n",
      "        return array;\n",
      "    } else return null;\n",
      "}\n",
      "replicate(3, 4);"
     ],
     "language": "python",
     "metadata": {},
     "outputs": [
      {
       "metadata": {},
       "output_type": "pyout",
       "prompt_number": 25,
       "text": [
        "[ 3, 3, 3, 3 ]"
       ]
      }
     ],
     "prompt_number": 25
    },
    {
     "cell_type": "markdown",
     "metadata": {},
     "source": [
      "#10)Dati due interi a, n maggiori di 0, scrivere un algoritmo che crea un lista di n elementi contenenti a.(ricorsiva)"
     ]
    },
    {
     "cell_type": "code",
     "collapsed": false,
     "input": [],
     "language": "python",
     "metadata": {},
     "outputs": []
    },
    {
     "cell_type": "markdown",
     "metadata": {},
     "source": [
      "# 11)Dato un array di interi A, si riordini gli elementi della lista in modo tale che tutti gli elementi dispari precedano nello stesso ordine tutti gli elementi pari.(iterativa)"
     ]
    },
    {
     "cell_type": "code",
     "collapsed": false,
     "input": [
      "function ordina(myArray){\n",
      "    for (i = 0; i < myArray.length; i++){\n",
      "        if (myArray[i] % 2 == 0){\n",
      "            myArray[i] = myArray[i++];\n",
      "}\n",
      "}\n",
      "}"
     ],
     "language": "python",
     "metadata": {},
     "outputs": []
    }
   ],
   "metadata": {}
  }
 ]
}